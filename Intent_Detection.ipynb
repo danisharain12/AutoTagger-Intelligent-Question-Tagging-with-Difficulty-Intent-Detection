{
  "nbformat": 4,
  "nbformat_minor": 0,
  "metadata": {
    "colab": {
      "provenance": []
    },
    "kernelspec": {
      "name": "python3",
      "display_name": "Python 3"
    },
    "language_info": {
      "name": "python"
    }
  },
  "cells": [
    {
      "cell_type": "code",
      "execution_count": 2,
      "metadata": {
        "id": "ceBuQJosWg7S"
      },
      "outputs": [],
      "source": [
        "import pandas as pd\n",
        "from sklearn.feature_extraction.text import TfidfVectorizer\n",
        "from sklearn.linear_model import LogisticRegression\n",
        "from sklearn.model_selection import train_test_split\n",
        "from sklearn.pipeline import Pipeline\n",
        "from sklearn.metrics import classification_report, confusion_matrix, accuracy_score\n",
        "import re\n",
        "from bs4 import BeautifulSoup\n",
        "import nltk\n",
        "from nltk.corpus import stopwords\n",
        "\n",
        "import warnings\n",
        "warnings.filterwarnings('ignore')\n"
      ]
    },
    {
      "cell_type": "code",
      "source": [
        "df = pd.read_csv('/content/stack_overflow_dataset.csv')\n",
        "df.head()"
      ],
      "metadata": {
        "colab": {
          "base_uri": "https://localhost:8080/",
          "height": 292
        },
        "id": "J9G4h6M8Xgqo",
        "outputId": "28e1294c-73fd-4d20-ed22-14a49ce390ca"
      },
      "execution_count": 3,
      "outputs": [
        {
          "output_type": "execute_result",
          "data": {
            "text/plain": [
              "         Id          CreationDate  Score  \\\n",
              "0  17016800  2013-06-10T04:15:05Z      0   \n",
              "1   7685280  2011-10-07T09:20:41Z      7   \n",
              "2  24178500  2014-06-12T07:13:00Z      1   \n",
              "3  38820760  2016-08-08T03:10:28Z      0   \n",
              "4   3674120  2010-09-09T05:53:46Z      0   \n",
              "\n",
              "                                               Title  \\\n",
              "0  Handling the EditText send keyboard event for ...   \n",
              "1             EditText: how to enable/disable input?   \n",
              "2  Mobile web - Displaying a fixed div below a re...   \n",
              "3                 How to create tabbed view in HTML?   \n",
              "4               Problems decrypting HTTP Live Stream   \n",
              "\n",
              "                                                Body  AnswerCount  \\\n",
              "0  <pre><code>import com.example.methanegaszonege...            1   \n",
              "1  <p>I have a 7x6 grid of EditText views. I want...            7   \n",
              "2  <p>I want to have a relative div at the top of...            0   \n",
              "3  <p>I'm trying to create a tabbed view in HTML ...            4   \n",
              "4  <p>I have a single key encrypted HTTP Live Str...            2   \n",
              "\n",
              "                                                Tags  \n",
              "0  ['android', 'events', 'android-edittext', 'send']  \n",
              "1                                        ['android']  \n",
              "2      ['jquery', 'html', 'css', 'iphone', 'mobile']  \n",
              "3                           ['html', 'google-sites']  \n",
              "4  ['http', 'stream', 'openssl', 'live', 'encrypt...  "
            ],
            "text/html": [
              "\n",
              "  <div id=\"df-8ecaa20f-ce83-43e7-82d9-33e800a09e42\" class=\"colab-df-container\">\n",
              "    <div>\n",
              "<style scoped>\n",
              "    .dataframe tbody tr th:only-of-type {\n",
              "        vertical-align: middle;\n",
              "    }\n",
              "\n",
              "    .dataframe tbody tr th {\n",
              "        vertical-align: top;\n",
              "    }\n",
              "\n",
              "    .dataframe thead th {\n",
              "        text-align: right;\n",
              "    }\n",
              "</style>\n",
              "<table border=\"1\" class=\"dataframe\">\n",
              "  <thead>\n",
              "    <tr style=\"text-align: right;\">\n",
              "      <th></th>\n",
              "      <th>Id</th>\n",
              "      <th>CreationDate</th>\n",
              "      <th>Score</th>\n",
              "      <th>Title</th>\n",
              "      <th>Body</th>\n",
              "      <th>AnswerCount</th>\n",
              "      <th>Tags</th>\n",
              "    </tr>\n",
              "  </thead>\n",
              "  <tbody>\n",
              "    <tr>\n",
              "      <th>0</th>\n",
              "      <td>17016800</td>\n",
              "      <td>2013-06-10T04:15:05Z</td>\n",
              "      <td>0</td>\n",
              "      <td>Handling the EditText send keyboard event for ...</td>\n",
              "      <td>&lt;pre&gt;&lt;code&gt;import com.example.methanegaszonege...</td>\n",
              "      <td>1</td>\n",
              "      <td>['android', 'events', 'android-edittext', 'send']</td>\n",
              "    </tr>\n",
              "    <tr>\n",
              "      <th>1</th>\n",
              "      <td>7685280</td>\n",
              "      <td>2011-10-07T09:20:41Z</td>\n",
              "      <td>7</td>\n",
              "      <td>EditText: how to enable/disable input?</td>\n",
              "      <td>&lt;p&gt;I have a 7x6 grid of EditText views. I want...</td>\n",
              "      <td>7</td>\n",
              "      <td>['android']</td>\n",
              "    </tr>\n",
              "    <tr>\n",
              "      <th>2</th>\n",
              "      <td>24178500</td>\n",
              "      <td>2014-06-12T07:13:00Z</td>\n",
              "      <td>1</td>\n",
              "      <td>Mobile web - Displaying a fixed div below a re...</td>\n",
              "      <td>&lt;p&gt;I want to have a relative div at the top of...</td>\n",
              "      <td>0</td>\n",
              "      <td>['jquery', 'html', 'css', 'iphone', 'mobile']</td>\n",
              "    </tr>\n",
              "    <tr>\n",
              "      <th>3</th>\n",
              "      <td>38820760</td>\n",
              "      <td>2016-08-08T03:10:28Z</td>\n",
              "      <td>0</td>\n",
              "      <td>How to create tabbed view in HTML?</td>\n",
              "      <td>&lt;p&gt;I'm trying to create a tabbed view in HTML ...</td>\n",
              "      <td>4</td>\n",
              "      <td>['html', 'google-sites']</td>\n",
              "    </tr>\n",
              "    <tr>\n",
              "      <th>4</th>\n",
              "      <td>3674120</td>\n",
              "      <td>2010-09-09T05:53:46Z</td>\n",
              "      <td>0</td>\n",
              "      <td>Problems decrypting HTTP Live Stream</td>\n",
              "      <td>&lt;p&gt;I have a single key encrypted HTTP Live Str...</td>\n",
              "      <td>2</td>\n",
              "      <td>['http', 'stream', 'openssl', 'live', 'encrypt...</td>\n",
              "    </tr>\n",
              "  </tbody>\n",
              "</table>\n",
              "</div>\n",
              "    <div class=\"colab-df-buttons\">\n",
              "\n",
              "  <div class=\"colab-df-container\">\n",
              "    <button class=\"colab-df-convert\" onclick=\"convertToInteractive('df-8ecaa20f-ce83-43e7-82d9-33e800a09e42')\"\n",
              "            title=\"Convert this dataframe to an interactive table.\"\n",
              "            style=\"display:none;\">\n",
              "\n",
              "  <svg xmlns=\"http://www.w3.org/2000/svg\" height=\"24px\" viewBox=\"0 -960 960 960\">\n",
              "    <path d=\"M120-120v-720h720v720H120Zm60-500h600v-160H180v160Zm220 220h160v-160H400v160Zm0 220h160v-160H400v160ZM180-400h160v-160H180v160Zm440 0h160v-160H620v160ZM180-180h160v-160H180v160Zm440 0h160v-160H620v160Z\"/>\n",
              "  </svg>\n",
              "    </button>\n",
              "\n",
              "  <style>\n",
              "    .colab-df-container {\n",
              "      display:flex;\n",
              "      gap: 12px;\n",
              "    }\n",
              "\n",
              "    .colab-df-convert {\n",
              "      background-color: #E8F0FE;\n",
              "      border: none;\n",
              "      border-radius: 50%;\n",
              "      cursor: pointer;\n",
              "      display: none;\n",
              "      fill: #1967D2;\n",
              "      height: 32px;\n",
              "      padding: 0 0 0 0;\n",
              "      width: 32px;\n",
              "    }\n",
              "\n",
              "    .colab-df-convert:hover {\n",
              "      background-color: #E2EBFA;\n",
              "      box-shadow: 0px 1px 2px rgba(60, 64, 67, 0.3), 0px 1px 3px 1px rgba(60, 64, 67, 0.15);\n",
              "      fill: #174EA6;\n",
              "    }\n",
              "\n",
              "    .colab-df-buttons div {\n",
              "      margin-bottom: 4px;\n",
              "    }\n",
              "\n",
              "    [theme=dark] .colab-df-convert {\n",
              "      background-color: #3B4455;\n",
              "      fill: #D2E3FC;\n",
              "    }\n",
              "\n",
              "    [theme=dark] .colab-df-convert:hover {\n",
              "      background-color: #434B5C;\n",
              "      box-shadow: 0px 1px 3px 1px rgba(0, 0, 0, 0.15);\n",
              "      filter: drop-shadow(0px 1px 2px rgba(0, 0, 0, 0.3));\n",
              "      fill: #FFFFFF;\n",
              "    }\n",
              "  </style>\n",
              "\n",
              "    <script>\n",
              "      const buttonEl =\n",
              "        document.querySelector('#df-8ecaa20f-ce83-43e7-82d9-33e800a09e42 button.colab-df-convert');\n",
              "      buttonEl.style.display =\n",
              "        google.colab.kernel.accessAllowed ? 'block' : 'none';\n",
              "\n",
              "      async function convertToInteractive(key) {\n",
              "        const element = document.querySelector('#df-8ecaa20f-ce83-43e7-82d9-33e800a09e42');\n",
              "        const dataTable =\n",
              "          await google.colab.kernel.invokeFunction('convertToInteractive',\n",
              "                                                    [key], {});\n",
              "        if (!dataTable) return;\n",
              "\n",
              "        const docLinkHtml = 'Like what you see? Visit the ' +\n",
              "          '<a target=\"_blank\" href=https://colab.research.google.com/notebooks/data_table.ipynb>data table notebook</a>'\n",
              "          + ' to learn more about interactive tables.';\n",
              "        element.innerHTML = '';\n",
              "        dataTable['output_type'] = 'display_data';\n",
              "        await google.colab.output.renderOutput(dataTable, element);\n",
              "        const docLink = document.createElement('div');\n",
              "        docLink.innerHTML = docLinkHtml;\n",
              "        element.appendChild(docLink);\n",
              "      }\n",
              "    </script>\n",
              "  </div>\n",
              "\n",
              "\n",
              "    <div id=\"df-17a4bf84-c82b-4e64-bd54-2acd2798a7b6\">\n",
              "      <button class=\"colab-df-quickchart\" onclick=\"quickchart('df-17a4bf84-c82b-4e64-bd54-2acd2798a7b6')\"\n",
              "                title=\"Suggest charts\"\n",
              "                style=\"display:none;\">\n",
              "\n",
              "<svg xmlns=\"http://www.w3.org/2000/svg\" height=\"24px\"viewBox=\"0 0 24 24\"\n",
              "     width=\"24px\">\n",
              "    <g>\n",
              "        <path d=\"M19 3H5c-1.1 0-2 .9-2 2v14c0 1.1.9 2 2 2h14c1.1 0 2-.9 2-2V5c0-1.1-.9-2-2-2zM9 17H7v-7h2v7zm4 0h-2V7h2v10zm4 0h-2v-4h2v4z\"/>\n",
              "    </g>\n",
              "</svg>\n",
              "      </button>\n",
              "\n",
              "<style>\n",
              "  .colab-df-quickchart {\n",
              "      --bg-color: #E8F0FE;\n",
              "      --fill-color: #1967D2;\n",
              "      --hover-bg-color: #E2EBFA;\n",
              "      --hover-fill-color: #174EA6;\n",
              "      --disabled-fill-color: #AAA;\n",
              "      --disabled-bg-color: #DDD;\n",
              "  }\n",
              "\n",
              "  [theme=dark] .colab-df-quickchart {\n",
              "      --bg-color: #3B4455;\n",
              "      --fill-color: #D2E3FC;\n",
              "      --hover-bg-color: #434B5C;\n",
              "      --hover-fill-color: #FFFFFF;\n",
              "      --disabled-bg-color: #3B4455;\n",
              "      --disabled-fill-color: #666;\n",
              "  }\n",
              "\n",
              "  .colab-df-quickchart {\n",
              "    background-color: var(--bg-color);\n",
              "    border: none;\n",
              "    border-radius: 50%;\n",
              "    cursor: pointer;\n",
              "    display: none;\n",
              "    fill: var(--fill-color);\n",
              "    height: 32px;\n",
              "    padding: 0;\n",
              "    width: 32px;\n",
              "  }\n",
              "\n",
              "  .colab-df-quickchart:hover {\n",
              "    background-color: var(--hover-bg-color);\n",
              "    box-shadow: 0 1px 2px rgba(60, 64, 67, 0.3), 0 1px 3px 1px rgba(60, 64, 67, 0.15);\n",
              "    fill: var(--button-hover-fill-color);\n",
              "  }\n",
              "\n",
              "  .colab-df-quickchart-complete:disabled,\n",
              "  .colab-df-quickchart-complete:disabled:hover {\n",
              "    background-color: var(--disabled-bg-color);\n",
              "    fill: var(--disabled-fill-color);\n",
              "    box-shadow: none;\n",
              "  }\n",
              "\n",
              "  .colab-df-spinner {\n",
              "    border: 2px solid var(--fill-color);\n",
              "    border-color: transparent;\n",
              "    border-bottom-color: var(--fill-color);\n",
              "    animation:\n",
              "      spin 1s steps(1) infinite;\n",
              "  }\n",
              "\n",
              "  @keyframes spin {\n",
              "    0% {\n",
              "      border-color: transparent;\n",
              "      border-bottom-color: var(--fill-color);\n",
              "      border-left-color: var(--fill-color);\n",
              "    }\n",
              "    20% {\n",
              "      border-color: transparent;\n",
              "      border-left-color: var(--fill-color);\n",
              "      border-top-color: var(--fill-color);\n",
              "    }\n",
              "    30% {\n",
              "      border-color: transparent;\n",
              "      border-left-color: var(--fill-color);\n",
              "      border-top-color: var(--fill-color);\n",
              "      border-right-color: var(--fill-color);\n",
              "    }\n",
              "    40% {\n",
              "      border-color: transparent;\n",
              "      border-right-color: var(--fill-color);\n",
              "      border-top-color: var(--fill-color);\n",
              "    }\n",
              "    60% {\n",
              "      border-color: transparent;\n",
              "      border-right-color: var(--fill-color);\n",
              "    }\n",
              "    80% {\n",
              "      border-color: transparent;\n",
              "      border-right-color: var(--fill-color);\n",
              "      border-bottom-color: var(--fill-color);\n",
              "    }\n",
              "    90% {\n",
              "      border-color: transparent;\n",
              "      border-bottom-color: var(--fill-color);\n",
              "    }\n",
              "  }\n",
              "</style>\n",
              "\n",
              "      <script>\n",
              "        async function quickchart(key) {\n",
              "          const quickchartButtonEl =\n",
              "            document.querySelector('#' + key + ' button');\n",
              "          quickchartButtonEl.disabled = true;  // To prevent multiple clicks.\n",
              "          quickchartButtonEl.classList.add('colab-df-spinner');\n",
              "          try {\n",
              "            const charts = await google.colab.kernel.invokeFunction(\n",
              "                'suggestCharts', [key], {});\n",
              "          } catch (error) {\n",
              "            console.error('Error during call to suggestCharts:', error);\n",
              "          }\n",
              "          quickchartButtonEl.classList.remove('colab-df-spinner');\n",
              "          quickchartButtonEl.classList.add('colab-df-quickchart-complete');\n",
              "        }\n",
              "        (() => {\n",
              "          let quickchartButtonEl =\n",
              "            document.querySelector('#df-17a4bf84-c82b-4e64-bd54-2acd2798a7b6 button');\n",
              "          quickchartButtonEl.style.display =\n",
              "            google.colab.kernel.accessAllowed ? 'block' : 'none';\n",
              "        })();\n",
              "      </script>\n",
              "    </div>\n",
              "\n",
              "    </div>\n",
              "  </div>\n"
            ],
            "application/vnd.google.colaboratory.intrinsic+json": {
              "type": "dataframe",
              "variable_name": "df",
              "summary": "{\n  \"name\": \"df\",\n  \"rows\": 10000,\n  \"fields\": [\n    {\n      \"column\": \"Id\",\n      \"properties\": {\n        \"dtype\": \"number\",\n        \"std\": 11511025,\n        \"min\": 2120,\n        \"max\": 40141970,\n        \"num_unique_values\": 10000,\n        \"samples\": [\n          14208200,\n          27746760,\n          2951400\n        ],\n        \"semantic_type\": \"\",\n        \"description\": \"\"\n      }\n    },\n    {\n      \"column\": \"CreationDate\",\n      \"properties\": {\n        \"dtype\": \"object\",\n        \"num_unique_values\": 10000,\n        \"samples\": [\n          \"2013-01-08T04:25:47Z\",\n          \"2015-01-02T18:26:59Z\",\n          \"2010-06-01T16:09:41Z\"\n        ],\n        \"semantic_type\": \"\",\n        \"description\": \"\"\n      }\n    },\n    {\n      \"column\": \"Score\",\n      \"properties\": {\n        \"dtype\": \"number\",\n        \"std\": 7,\n        \"min\": -8,\n        \"max\": 299,\n        \"num_unique_values\": 83,\n        \"samples\": [\n          151,\n          0,\n          44\n        ],\n        \"semantic_type\": \"\",\n        \"description\": \"\"\n      }\n    },\n    {\n      \"column\": \"Title\",\n      \"properties\": {\n        \"dtype\": \"string\",\n        \"num_unique_values\": 10000,\n        \"samples\": [\n          \"Git Branch Diversion Issue and workflow\",\n          \"How do I get the S3 key's created date with boto?\",\n          \"Injecting Entitymanager via XML and not annnotations\"\n        ],\n        \"semantic_type\": \"\",\n        \"description\": \"\"\n      }\n    },\n    {\n      \"column\": \"Body\",\n      \"properties\": {\n        \"dtype\": \"string\",\n        \"num_unique_values\": 10000,\n        \"samples\": [\n          \"<p>I have a doubt whether the workflow that I follow is correct or if I have messed up the situation.</p>\\n\\n<p>I was working on a new feature on the branch that i created locally and on remote. I am the only person working on it. </p>\\n\\n<p>I Created it using:</p>\\n\\n<pre><code>git checkout -b rotation upstream/master\\n</code></pre>\\n\\n<p>Now I made changes and commited:</p>\\n\\n<pre><code>git commit\\n</code></pre>\\n\\n<p>and changes were pushed to remote branch:</p>\\n\\n<pre><code>git push origin rotation\\n</code></pre>\\n\\n<p>My problem starts now. I typed <code>git fetch upstream</code> at this point.</p>\\n\\n<p>Now when I <code>git status</code> I get,</p>\\n\\n<pre><code>vinayan@vinayan-MS-7623:~/QgisGitWorking/Quantum-GIS$ git status\\n# On branch rotatation\\n# Your branch and 'upstream/master' have diverged,\\n# and have 4 and 5 different commits each, respectively.\\n#\\nnothing to commit (working directory clean)\\n</code></pre>\\n\\n<p>I am confused by the branch diverged message.</p>\\n\\n<ol>\\n<li>Is anything wrong here?</li>\\n<li>Is there going to be an issue if i continue\\ncommitting changes here and push upstream?</li>\\n<li>If something is wrong, what would be the best way to correct it?</li>\\n</ol>\\n\\n<p>I am quite new to git. Previously I have only used VSS.</p>\\n\\n<p><strong>Edit:</strong></p>\\n\\n<pre><code>vinayan@vinayan-MS-7623:~/QgisGitWorking/Quantum-GIS$ git remote -v\\norigin  git@github.com:vinayan/Quantum-GIS.git (fetch)\\norigin  git@github.com:vinayan/Quantum-GIS.git (push)\\nupstream    git://github.com/qgis/Quantum-GIS.git (fetch)\\nupstream    git://github.com/qgis/Quantum-GIS.git (push)\\n</code></pre>\\n\",\n          \"<p>Boto's S3 Key object contains last_modified date (which is nicely available via parse_ts, thanks @Gaarnat!) but the base_field \\\"date\\\" (i.e., ctime) doesn't seem to be accessible, even though it's listed in key.base_fields.</p>\\n\\n<p>Based on the table at <a href=\\\"http://docs.aws.amazon.com/AmazonS3/latest/dev/UsingMetadata.html\\\" rel=\\\"nofollow\\\">http://docs.aws.amazon.com/AmazonS3/latest/dev/UsingMetadata.html</a>, it does seem that it is always automatically created (and I can't imagine a reason why it wouldn't be). It's probably just a simple matter of finding it somewhere in the object attributes, but I haven't been able to find it so far, although I did find the base_fields attribute which contains 'date'. (They're just a set and don't seem to have an available methods and I haven't been able to find documentation regarding ways to inspect them.)</p>\\n\\n<blockquote>\\n  <p>For example, Amazon S3 maintains object creation date and size metadata and uses this information as part of object management.</p>\\n</blockquote>\\n\\n<p>Interestingly, create_time (system metadata field \\\"Date\\\" in link above) does not show up in the AWS S3 console, either, although last_modified is visible.</p>\\n\",\n          \"<p>What I am trying to do is inject through XML almost the same way that is done through A @PersistenceContext annotation.  I am in need of this because of the fact I have different entity managers I need to inject into the same DAO.  The databases mirror one another and I would rather have 1 base class and for instances of that base class then create multiple classes just so I can use the @PersistenceContext annotation.</p>\\n\\n<p>Here is my example.  This is what I am doing now and it works.</p>\\n\\n<pre><code>public class ItemDaoImpl {\\n protected EntityManager entityManager;\\n\\n public List&lt;Item&gt; getItems() {\\n     Query query = entityManager.createQuery(\\\"select i from Item i\\\");\\n  List&lt;Item&gt; s = (List&lt;Item&gt;)query.getResultList();\\n  return s; \\n }\\n public void setEntityManger(EntityManager entityManager) {\\n  this.entityManager = entityManager;\\n }\\n}\\n\\n@Repository(value = \\\"itemDaoStore2\\\")\\npublic class ItemDaoImplStore2 extends ItemDaoImpl {\\n\\n @PersistenceContext(unitName = \\\"persistence_unit_2\\\")\\n public void setEntityManger(EntityManager entityManager) {\\n  this.entityManager = entityManager;\\n }\\n}\\n\\n@Repository(value = \\\"itemDaoStore1\\\")\\npublic class ItemDaoImplStore1 extends ItemDaoImpl {\\n\\n @PersistenceContext(unitName = \\\"persistence_unit_1\\\")\\n public void setEntityManger(EntityManager entityManager) {\\n  this.entityManager = entityManager;\\n }\\n}\\n</code></pre>\\n\\n<p>TransactionManagers, EntityManagers are defined below...</p>\\n\\n<pre><code>&lt;!-- Registers Spring's standard post-processors for annotation-based configuration like @Repository --&gt;\\n&lt;context:annotation-config /&gt;\\n\\n&lt;!-- For @Transactional annotations --&gt;\\n&lt;tx:annotation-driven transaction-manager=\\\"transactionManager1\\\"  /&gt;\\n&lt;tx:annotation-driven transaction-manager=\\\"transactionManager2\\\"  /&gt;\\n\\n&lt;!-- This makes Spring perform @PersistenceContext/@PersitenceUnit injection: --&gt;\\n&lt;bean class=\\\"org.springframework.orm.jpa.support.PersistenceAnnotationBeanPostProcessor\\\"/&gt;\\n\\n&lt;!-- Drives transactions using local JPA APIs --&gt;\\n&lt;bean id=\\\"transactionManager1\\\" class=\\\"org.springframework.orm.jpa.JpaTransactionManager\\\"&gt;\\n &lt;property name=\\\"entityManagerFactory\\\" ref=\\\"entityManagerFactory1\\\" /&gt;\\n&lt;/bean&gt;\\n\\n&lt;bean id=\\\"transactionManager2\\\" class=\\\"org.springframework.orm.jpa.JpaTransactionManager\\\"&gt;\\n &lt;property name=\\\"entityManagerFactory\\\" ref=\\\"entityManagerFactory2\\\" /&gt;\\n&lt;/bean&gt;\\n\\n&lt;bean id=\\\"entityManagerFactory1\\\" class=\\\"org.springframework.orm.jpa.LocalContainerEntityManagerFactoryBean\\\"&gt;\\n &lt;property name=\\\"persistenceUnitName\\\" value=\\\"persistence_unit_1\\\"/&gt;\\n...\\n&lt;/bean&gt;\\n\\n&lt;bean id=\\\"entityManagerFactory2\\\" class=\\\"org.springframework.orm.jpa.LocalContainerEntityManagerFactoryBean\\\"&gt;\\n &lt;property name=\\\"persistenceUnitName\\\" value=\\\"persistence_unit_2\\\"/&gt;\\n...\\n&lt;/bean&gt;\\n</code></pre>\\n\\n<p>What I want to do is to NOT create classes ItemDaoImplStore2 or ItemDaoImplStore1.  I want to have these as instances of ItemDaoImpl via xml instead.  I do not know how to inject the entitymanager properly though.  I want to simulate annotating this as a 'Repository' annotation, and I also want to be able to specify what entityManager to inject by the persistence unit name.  I want something similar to the below using XML instead.</p>\\n\\n<pre><code> &lt;!-- Somehow annotate this instance as a @Repository annotation --&gt;\\n &lt;bean id=\\\"itemDaoStore1\\\" class=\\\"ItemDaoImpl\\\"&gt;\\n  &lt;!-- Does not work since it is a LocalContainerEntityManagerFactoryBean--&gt;\\n  &lt;!-- Also I would perfer to do it the same way PersistenceContext works\\n   and only provide the persistence unit name.  I would like to be\\n   able to specify persistence_unit_1--&gt;\\n  &lt;property name=\\\"entityManager\\\"  ref=\\\"entityManagerFactory1\\\"/&gt; \\n &lt;/bean&gt;\\n\\n  &lt;!-- Somehow annotate this instance as a @Repository annotation --&gt;\\n &lt;bean id=\\\"itemDaoStore2\\\" class=\\\"ItemDaoImpl\\\"&gt;\\n  &lt;!-- Does not work since it is a LocalContainerEntityManagerFactoryBean--&gt;\\n  &lt;!-- Also I would perfer to do it the same way PersistenceContext works\\n   and only provide the persistence unit name.  I would like to be\\n   able to specify persistence_unit_2--&gt;\\n  &lt;property name=\\\"entityManager\\\"  ref=\\\"entityManagerFactory2\\\"/&gt; \\n &lt;/bean&gt;\\n</code></pre>\\n\"\n        ],\n        \"semantic_type\": \"\",\n        \"description\": \"\"\n      }\n    },\n    {\n      \"column\": \"AnswerCount\",\n      \"properties\": {\n        \"dtype\": \"number\",\n        \"std\": 1,\n        \"min\": 0,\n        \"max\": 23,\n        \"num_unique_values\": 17,\n        \"samples\": [\n          1,\n          7,\n          3\n        ],\n        \"semantic_type\": \"\",\n        \"description\": \"\"\n      }\n    },\n    {\n      \"column\": \"Tags\",\n      \"properties\": {\n        \"dtype\": \"string\",\n        \"num_unique_values\": 8341,\n        \"samples\": [\n          \"['c++', 'algorithm', 'distributed-computing', 'distributed-algorithm']\",\n          \"['java', 'android', 'gps']\",\n          \"['design', 'photoshop']\"\n        ],\n        \"semantic_type\": \"\",\n        \"description\": \"\"\n      }\n    }\n  ]\n}"
            }
          },
          "metadata": {},
          "execution_count": 3
        }
      ]
    },
    {
      "cell_type": "code",
      "source": [
        "df.drop(columns=['Id', 'CreationDate'], inplace=True)"
      ],
      "metadata": {
        "id": "8S1NWx4XYBR-"
      },
      "execution_count": 4,
      "outputs": []
    },
    {
      "cell_type": "code",
      "source": [
        "df = df[df['Score'] > -3]\n",
        "df.loc[:, 'full_text'] = df['Title'].astype(str) + ' ' + df['Body'].astype(str)\n",
        "df.drop(columns=['Title', 'Body'], inplace=True)"
      ],
      "metadata": {
        "id": "dTLXBB0UYWle"
      },
      "execution_count": 5,
      "outputs": []
    },
    {
      "cell_type": "code",
      "source": [
        "nltk.download('stopwords', quiet=True)\n",
        "\n",
        "def clean_text(text, max_words=None):\n",
        "    if not isinstance(text, str):\n",
        "        return \"\"\n",
        "\n",
        "    # 1. Remove HTML\n",
        "    text = BeautifulSoup(text, \"html.parser\").get_text()\n",
        "\n",
        "    # 2. Lowercase\n",
        "    text = text.lower()\n",
        "\n",
        "    # 3. Remove URLs and emails\n",
        "    text = re.sub(r\"http\\S+|www\\.\\S+\", \"\", text)\n",
        "    text = re.sub(r\"\\S+@\\S+\", \"\", text)\n",
        "\n",
        "    # 4. Keep code content, remove backticks and markdown\n",
        "    text = text.replace(\"`\", \"\")\n",
        "    text = re.sub(r\"^[=\\-*#~_]{3,}\", \"\", text, flags=re.MULTILINE)\n",
        "\n",
        "    # 5. Remove brackets and quotes (keep parentheses & angle brackets)\n",
        "    text = re.sub(r\"[{}\\[\\]\\\"']\", \"\", text)\n",
        "\n",
        "    # 6. Keep only relevant characters (preserve programming tokens)\n",
        "    text = re.sub(r\"[^a-zA-Z0-9\\s\\.\\-+#_]\", \" \", text)\n",
        "\n",
        "    # 8. Normalize whitespace\n",
        "    text = re.sub(r\"\\s+\", \" \", text).strip()\n",
        "\n",
        "    return text\n"
      ],
      "metadata": {
        "id": "WI2XT4HjYlPU"
      },
      "execution_count": 6,
      "outputs": []
    },
    {
      "cell_type": "code",
      "source": [
        "df['clean_text'] = df['full_text'].apply(lambda x: clean_text(x))"
      ],
      "metadata": {
        "id": "tpqDiemEYpEh"
      },
      "execution_count": 7,
      "outputs": []
    },
    {
      "cell_type": "code",
      "source": [
        "def rule_based_intent(text):\n",
        "    text = text.lower()\n",
        "    text = re.sub(r'[^\\w\\s]', ' ', text)\n",
        "    text = re.sub(r'\\s+', ' ', text)\n",
        "\n",
        "    # Debugging\n",
        "    if any(kw in text for kw in [\n",
        "        \"error\", \"exception\", \"traceback\", \"crash\", \"bug\", \"not working\",\n",
        "        \"issue\", \"fix\", \"debug\", \"fails\", \"failed\", \"stuck\", \"problem\",\n",
        "        \"compile error\", \"unexpected\", \"can't\", \"cannot\", \"not loading\", \"won't load\", \"broken\"\n",
        "    ]):\n",
        "        return \"debugging\"\n",
        "\n",
        "    # How-to\n",
        "    if re.search(r\"\\b(how to|how do i|how can i|how should i|how would i|how does one|steps to|guide to|tutorial|prevent|disable|change|create|detect|convert|make|resolve)\\b\", text):\n",
        "        return \"how-to\"\n",
        "    if re.search(r\"\\b(can i|should i|what if i|how do you|how many|how could)\\b\", text):\n",
        "        return \"how-to\"\n",
        "\n",
        "    # Concept\n",
        "    if re.search(r\"\\b(what is|explain|definition of|describe|understand|meaning of|overview of|concept of|why does|why is|why should)\\b\", text):\n",
        "        return \"concept\"\n",
        "\n",
        "    # Comparison\n",
        "    if any(phrase in text for phrase in [\n",
        "        \"difference between\", \"vs\", \"versus\", \"better than\", \"compare with\",\n",
        "        \"which is better\", \"pros and cons\"\n",
        "    ]):\n",
        "        return \"comparison\"\n",
        "\n",
        "    # Optimization\n",
        "    if any(kw in text for kw in [\n",
        "        \"optimize\", \"performance\", \"faster\", \"efficient\", \"efficiency\",\n",
        "        \"improve speed\", \"reduce time\", \"speed up\", \"high performance\",\n",
        "        \"scalable\", \"memory usage\"\n",
        "    ]):\n",
        "        return \"optimization\"\n",
        "\n",
        "    # Handle \"are\" questions\n",
        "    if text.startswith(\"are \"):\n",
        "        if any(kw in text for kw in [\"difference\", \"compare\", \"versus\", \"vs\", \"better\", \"advantages\"]):\n",
        "            return \"comparison\"\n",
        "        elif any(kw in text for kw in [\"meaning\", \"concept\", \"definition\", \"describe\", \"explain\"]):\n",
        "            return \"concept\"\n",
        "        elif any(kw in text for kw in [\"not\", \"issue\", \"problem\", \"error\", \"wrong\", \"fail\"]):\n",
        "            return \"debugging\"\n",
        "        else:\n",
        "            return \"how-to\"\n",
        "\n",
        "    # Catch general action or UI behavior phrasing\n",
        "    if any(kw in text for kw in [\n",
        "        \"change\", \"detect\", \"parse\", \"autocomplete\", \"load\", \"insert\",\n",
        "        \"handler\", \"fetch\", \"validate\", \"submit\", \"fade\", \"onclick\", \"prevent\"\n",
        "    ]):\n",
        "        return \"how-to\"\n",
        "\n",
        "    # If starts with a verb or known tech task keyword, treat as how-to\n",
        "    first_word = text.split()[0] if text else \"\"\n",
        "    if first_word in {\"create\", \"use\", \"build\", \"send\", \"access\", \"show\", \"trigger\", \"toggle\"}:\n",
        "        return \"how-to\"\n",
        "\n",
        "    return None\n"
      ],
      "metadata": {
        "id": "GJzWcJoMY1Q6"
      },
      "execution_count": 8,
      "outputs": []
    },
    {
      "cell_type": "code",
      "source": [
        "df['intent_rule'] = df['clean_text'].apply(rule_based_intent)\n"
      ],
      "metadata": {
        "id": "DiBwojU_Y8Ju"
      },
      "execution_count": 9,
      "outputs": []
    },
    {
      "cell_type": "code",
      "source": [
        "df['intent_rule'].value_counts(dropna=False)\n"
      ],
      "metadata": {
        "colab": {
          "base_uri": "https://localhost:8080/",
          "height": 303
        },
        "id": "SNBQnETzY-Ij",
        "outputId": "4e9499a7-8783-43d0-c66a-09ef7e1853b2"
      },
      "execution_count": 10,
      "outputs": [
        {
          "output_type": "execute_result",
          "data": {
            "text/plain": [
              "intent_rule\n",
              "debugging       4979\n",
              "how-to          3324\n",
              "None            1141\n",
              "concept          292\n",
              "optimization      71\n",
              "comparison        69\n",
              "Name: count, dtype: int64"
            ],
            "text/html": [
              "<div>\n",
              "<style scoped>\n",
              "    .dataframe tbody tr th:only-of-type {\n",
              "        vertical-align: middle;\n",
              "    }\n",
              "\n",
              "    .dataframe tbody tr th {\n",
              "        vertical-align: top;\n",
              "    }\n",
              "\n",
              "    .dataframe thead th {\n",
              "        text-align: right;\n",
              "    }\n",
              "</style>\n",
              "<table border=\"1\" class=\"dataframe\">\n",
              "  <thead>\n",
              "    <tr style=\"text-align: right;\">\n",
              "      <th></th>\n",
              "      <th>count</th>\n",
              "    </tr>\n",
              "    <tr>\n",
              "      <th>intent_rule</th>\n",
              "      <th></th>\n",
              "    </tr>\n",
              "  </thead>\n",
              "  <tbody>\n",
              "    <tr>\n",
              "      <th>debugging</th>\n",
              "      <td>4979</td>\n",
              "    </tr>\n",
              "    <tr>\n",
              "      <th>how-to</th>\n",
              "      <td>3324</td>\n",
              "    </tr>\n",
              "    <tr>\n",
              "      <th>None</th>\n",
              "      <td>1141</td>\n",
              "    </tr>\n",
              "    <tr>\n",
              "      <th>concept</th>\n",
              "      <td>292</td>\n",
              "    </tr>\n",
              "    <tr>\n",
              "      <th>optimization</th>\n",
              "      <td>71</td>\n",
              "    </tr>\n",
              "    <tr>\n",
              "      <th>comparison</th>\n",
              "      <td>69</td>\n",
              "    </tr>\n",
              "  </tbody>\n",
              "</table>\n",
              "</div><br><label><b>dtype:</b> int64</label>"
            ]
          },
          "metadata": {},
          "execution_count": 10
        }
      ]
    },
    {
      "cell_type": "code",
      "source": [
        "df_labeled = df[df['intent_rule'].notna()].reset_index().copy()\n"
      ],
      "metadata": {
        "id": "PDruIElhf6hx"
      },
      "execution_count": 11,
      "outputs": []
    },
    {
      "cell_type": "code",
      "source": [
        "df_labeled.drop(columns=['index', 'Score', 'AnswerCount', 'Tags', 'full_text'], inplace=True)"
      ],
      "metadata": {
        "id": "V5kYrjaof7mV"
      },
      "execution_count": 12,
      "outputs": []
    },
    {
      "cell_type": "code",
      "source": [
        "df_labeled['intent_rule'] = df_labeled['intent_rule'].replace({\n",
        "    'optimization': 'how-to',\n",
        "    'comparison': 'concept'})\n"
      ],
      "metadata": {
        "id": "20KgiRYqk6kR"
      },
      "execution_count": 13,
      "outputs": []
    },
    {
      "cell_type": "code",
      "source": [
        "df_labeled['intent_rule'].value_counts()"
      ],
      "metadata": {
        "colab": {
          "base_uri": "https://localhost:8080/",
          "height": 209
        },
        "id": "U-uGkelggb2t",
        "outputId": "5d962325-c4de-4091-a8a8-857d088bf6dc"
      },
      "execution_count": 14,
      "outputs": [
        {
          "output_type": "execute_result",
          "data": {
            "text/plain": [
              "intent_rule\n",
              "debugging    4979\n",
              "how-to       3395\n",
              "concept       361\n",
              "Name: count, dtype: int64"
            ],
            "text/html": [
              "<div>\n",
              "<style scoped>\n",
              "    .dataframe tbody tr th:only-of-type {\n",
              "        vertical-align: middle;\n",
              "    }\n",
              "\n",
              "    .dataframe tbody tr th {\n",
              "        vertical-align: top;\n",
              "    }\n",
              "\n",
              "    .dataframe thead th {\n",
              "        text-align: right;\n",
              "    }\n",
              "</style>\n",
              "<table border=\"1\" class=\"dataframe\">\n",
              "  <thead>\n",
              "    <tr style=\"text-align: right;\">\n",
              "      <th></th>\n",
              "      <th>count</th>\n",
              "    </tr>\n",
              "    <tr>\n",
              "      <th>intent_rule</th>\n",
              "      <th></th>\n",
              "    </tr>\n",
              "  </thead>\n",
              "  <tbody>\n",
              "    <tr>\n",
              "      <th>debugging</th>\n",
              "      <td>4979</td>\n",
              "    </tr>\n",
              "    <tr>\n",
              "      <th>how-to</th>\n",
              "      <td>3395</td>\n",
              "    </tr>\n",
              "    <tr>\n",
              "      <th>concept</th>\n",
              "      <td>361</td>\n",
              "    </tr>\n",
              "  </tbody>\n",
              "</table>\n",
              "</div><br><label><b>dtype:</b> int64</label>"
            ]
          },
          "metadata": {},
          "execution_count": 14
        }
      ]
    },
    {
      "cell_type": "code",
      "source": [
        "intent_labels = {\n",
        "    \"debugging\": 0,\n",
        "    \"how-to\": 1,\n",
        "    \"concept\": 2}\n",
        "\n",
        "df_labeled['intent_label'] = df_labeled['intent_rule'].map(intent_labels)\n"
      ],
      "metadata": {
        "id": "-wxuf4HPgreT"
      },
      "execution_count": 15,
      "outputs": []
    },
    {
      "cell_type": "code",
      "source": [
        "X_train, X_test, y_train, y_test = train_test_split(\n",
        "    df_labeled['clean_text'],\n",
        "    df_labeled['intent_label'],\n",
        "    test_size=0.2,\n",
        "    stratify=df_labeled['intent_label'],\n",
        "    random_state=42)\n"
      ],
      "metadata": {
        "id": "gWYCQyV5lgJT"
      },
      "execution_count": 16,
      "outputs": []
    },
    {
      "cell_type": "code",
      "source": [
        "pipeline = Pipeline([\n",
        "    ('tfidf', TfidfVectorizer(\n",
        "        max_features=6000,\n",
        "        ngram_range=(1, 3),\n",
        "        sublinear_tf=True)),\n",
        "    ('clf', LogisticRegression(\n",
        "    solver='liblinear',\n",
        "    penalty='l1',\n",
        "    C=1.5,\n",
        "    class_weight='balanced',\n",
        "    max_iter=2000))])\n",
        "\n",
        "pipeline.fit(X_train, y_train)\n",
        "y_pred = pipeline.predict(X_test)\n"
      ],
      "metadata": {
        "id": "P0vEmTdKly67"
      },
      "execution_count": 17,
      "outputs": []
    },
    {
      "cell_type": "code",
      "source": [
        "print(accuracy_score(y_test, y_pred))\n",
        "print(classification_report(y_test, y_pred, target_names=['debugging', 'how-to', 'concept']))\n",
        "print(confusion_matrix(y_test, y_pred))\n"
      ],
      "metadata": {
        "colab": {
          "base_uri": "https://localhost:8080/"
        },
        "id": "4MPUnU-jl3Mx",
        "outputId": "41c78454-29a8-4330-ce31-a7fa2f93bd28"
      },
      "execution_count": 18,
      "outputs": [
        {
          "output_type": "stream",
          "name": "stdout",
          "text": [
            "0.9456210646823126\n",
            "              precision    recall  f1-score   support\n",
            "\n",
            "   debugging       1.00      0.94      0.97       996\n",
            "      how-to       0.90      0.98      0.94       679\n",
            "     concept       0.75      0.74      0.74        72\n",
            "\n",
            "    accuracy                           0.95      1747\n",
            "   macro avg       0.88      0.88      0.88      1747\n",
            "weighted avg       0.95      0.95      0.95      1747\n",
            "\n",
            "[[932  58   6]\n",
            " [  0 667  12]\n",
            " [  0  19  53]]\n"
          ]
        }
      ]
    },
    {
      "cell_type": "code",
      "source": [
        "import joblib\n",
        "\n",
        "# Save\n",
        "joblib.dump(pipeline, 'intent pred model.pkl')"
      ],
      "metadata": {
        "colab": {
          "base_uri": "https://localhost:8080/"
        },
        "id": "5NMqbVWqlEd4",
        "outputId": "72969678-eebd-41f2-88b6-3da8e3a86fe8"
      },
      "execution_count": 19,
      "outputs": [
        {
          "output_type": "execute_result",
          "data": {
            "text/plain": [
              "['intent pred model.pkl']"
            ]
          },
          "metadata": {},
          "execution_count": 19
        }
      ]
    }
  ]
}