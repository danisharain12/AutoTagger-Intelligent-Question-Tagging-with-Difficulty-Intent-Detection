{
 "cells": [
  {
   "cell_type": "markdown",
   "id": "a6c9ccce",
   "metadata": {},
   "source": [
    "# **AutoTagger: Intelligent Question Tagging with Difficulty & Intent Detection**\n",
    "\n",
    "### Project Overview  \n",
    "**AutoTagger is an AI-powered NLP system that enhances how technical questions are classified on platforms like StackOverflow or Quora. It automatically predicts the relevant topic tags, estimates the difficulty level, and detects \n",
    "the user's intent behind the question.** \n",
    "\n",
    "### Key Features: \n",
    "- Tag Prediction: Multi-label classification of questions (e.g., [\"Python\", \"NLP\"]) \n",
    "- Difficulty Estimation: Predicts whether a question is Easy, Medium, or Hard \n",
    "- Intent Detection: Classifies the question’s intent (e.g., How-to, Debugging, Concept Explanation) \n",
    "- Similar Questions Retrieval: Uses embeddings to show similar previously answered questions \n",
    "- Streamlit Web App: Simple UI with real-time prediction \n",
    "- Confidence Scores: Shows how certain the model is \n",
    "- Feedback Integration: Allows users to correct predictions to improve learning"
   ]
  },
  {
   "cell_type": "markdown",
   "id": "87800b9d",
   "metadata": {},
   "source": [
    "## Import Libraries"
   ]
  },
  {
   "cell_type": "code",
   "execution_count": null,
   "id": "8e3912ff",
   "metadata": {},
   "outputs": [],
   "source": [
    "import pandas as pd\n",
    "import numpy as np"
   ]
  },
  {
   "cell_type": "code",
   "execution_count": 38,
   "id": "0f8fa13f",
   "metadata": {},
   "outputs": [],
   "source": [
    "questions = pd.read_csv('././Dataset/Questions.csv', encoding='ISO-8859-1')\n",
    "answers = pd.read_csv('././Dataset/Answers.csv', encoding='ISO-8859-1')\n",
    "tags = pd.read_csv('././Dataset/Tags.csv', encoding='ISO-8859-1')"
   ]
  },
  {
   "cell_type": "code",
   "execution_count": null,
   "id": "9f44627d",
   "metadata": {},
   "outputs": [],
   "source": [
    "answer_counts = answers.groupby(\"ParentId\").size().reset_index(name=\"AnswerCount\")\n",
    "\n",
    "# Group tags per question\n",
    "tag_groups = tags.groupby(\"Id\")[\"Tag\"].apply(list).reset_index(name=\"Tags\")"
   ]
  },
  {
   "cell_type": "code",
   "execution_count": null,
   "id": "81183a86",
   "metadata": {},
   "outputs": [],
   "source": [
    "# Merge answer count and tags into questions\n",
    "questions_merged = questions.merge(answer_counts, left_on=\"Id\", right_on=\"ParentId\", how=\"left\")\n",
    "questions_merged = questions_merged.merge(tag_groups, on=\"Id\", how=\"left\")"
   ]
  },
  {
   "cell_type": "code",
   "execution_count": null,
   "id": "a1cf853d",
   "metadata": {},
   "outputs": [],
   "source": [
    "# Fill missing answer counts with 0\n",
    "questions_merged[\"AnswerCount\"] = questions_merged[\"AnswerCount\"].fillna(0).astype(int)\n",
    "\n",
    "# Drop unnecessary columns like 'ParentId'\n",
    "questions_merged = questions_merged.drop(columns=['ParentId','OwnerUserId','ClosedDate'], errors=\"ignore\")"
   ]
  },
  {
   "cell_type": "code",
   "execution_count": null,
   "id": "1895b9f3",
   "metadata": {},
   "outputs": [],
   "source": [
    "# Now sample 10k clean records\n",
    "df = questions_merged.sample(n=10000, random_state=42).reset_index(drop=True)"
   ]
  },
  {
   "cell_type": "code",
   "execution_count": 48,
   "id": "338c0272",
   "metadata": {},
   "outputs": [
    {
     "data": {
      "text/html": [
       "<div>\n",
       "<style scoped>\n",
       "    .dataframe tbody tr th:only-of-type {\n",
       "        vertical-align: middle;\n",
       "    }\n",
       "\n",
       "    .dataframe tbody tr th {\n",
       "        vertical-align: top;\n",
       "    }\n",
       "\n",
       "    .dataframe thead th {\n",
       "        text-align: right;\n",
       "    }\n",
       "</style>\n",
       "<table border=\"1\" class=\"dataframe\">\n",
       "  <thead>\n",
       "    <tr style=\"text-align: right;\">\n",
       "      <th></th>\n",
       "      <th>Id</th>\n",
       "      <th>CreationDate</th>\n",
       "      <th>Score</th>\n",
       "      <th>Title</th>\n",
       "      <th>Body</th>\n",
       "      <th>AnswerCount</th>\n",
       "      <th>Tags</th>\n",
       "    </tr>\n",
       "  </thead>\n",
       "  <tbody>\n",
       "    <tr>\n",
       "      <th>3521</th>\n",
       "      <td>18505250</td>\n",
       "      <td>2013-08-29T07:57:33Z</td>\n",
       "      <td>0</td>\n",
       "      <td>How to make UIWebview url address area progres...</td>\n",
       "      <td>&lt;p&gt;I am creating a web-browser app. &lt;/p&gt;\\n\\n&lt;p...</td>\n",
       "      <td>0</td>\n",
       "      <td>[ios, uiwebview, uiprogressbar]</td>\n",
       "    </tr>\n",
       "  </tbody>\n",
       "</table>\n",
       "</div>"
      ],
      "text/plain": [
       "            Id          CreationDate  Score  \\\n",
       "3521  18505250  2013-08-29T07:57:33Z      0   \n",
       "\n",
       "                                                  Title  \\\n",
       "3521  How to make UIWebview url address area progres...   \n",
       "\n",
       "                                                   Body  AnswerCount  \\\n",
       "3521  <p>I am creating a web-browser app. </p>\\n\\n<p...            0   \n",
       "\n",
       "                                 Tags  \n",
       "3521  [ios, uiwebview, uiprogressbar]  "
      ]
     },
     "execution_count": 48,
     "metadata": {},
     "output_type": "execute_result"
    }
   ],
   "source": [
    "df.sample()"
   ]
  }
 ],
 "metadata": {
  "kernelspec": {
   "display_name": "main",
   "language": "python",
   "name": "python3"
  },
  "language_info": {
   "codemirror_mode": {
    "name": "ipython",
    "version": 3
   },
   "file_extension": ".py",
   "mimetype": "text/x-python",
   "name": "python",
   "nbconvert_exporter": "python",
   "pygments_lexer": "ipython3",
   "version": "3.12.3"
  }
 },
 "nbformat": 4,
 "nbformat_minor": 5
}
